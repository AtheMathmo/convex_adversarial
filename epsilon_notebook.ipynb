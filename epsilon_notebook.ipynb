{
 "cells": [
  {
   "cell_type": "code",
   "execution_count": null,
   "metadata": {
    "collapsed": true
   },
   "outputs": [],
   "source": [
    "import matplotlib\n",
    "%matplotlib inline\n",
    "import matplotlib.pyplot as plt\n",
    "from matplotlib.colors import ListedColormap\n",
    "from matplotlib.collections import LineCollection\n",
    "import seaborn as sns"
   ]
  },
  {
   "cell_type": "code",
   "execution_count": null,
   "metadata": {},
   "outputs": [],
   "source": [
    "import torch\n",
    "import numpy as np\n",
    "nt = 'cifar'\n",
    "true_epsilon = 0.0347\n",
    "# nt = 'svhn'\n",
    "# true_epsilon = 0.0078\n",
    "lt = 'test'\n",
    "correct = torch.load('pixel2_eps/{}_small_correct_epsilons.pth'.format(nt)).cpu().data\n",
    "incorrect = torch.load('pixel2_eps/{}_small_incorrect_epsilons.pth'.format(nt)).cpu().data"
   ]
  },
  {
   "cell_type": "code",
   "execution_count": null,
   "metadata": {},
   "outputs": [],
   "source": [
    "\n",
    "epsilons = torch.cat([correct, incorrect],0)\n",
    "epsilons = epsilons[:len(epsilons)-(len(epsilons) % 1000)]\n",
    "correctness = torch.cat([torch.ones_like(correct), torch.zeros_like(incorrect)],0)\n",
    "sort_eps, idx = torch.sort(epsilons)\n",
    "sort_correct = correctness[idx]\n",
    "\n",
    "def plot_epsilon(axs, sort_eps, sort_correct, true_epsilon, n=1000, title=None):\n",
    "    x = torch.arange(n).numpy()*sort_eps.size(0)//n\n",
    "    y = sort_eps.view(n,sort_eps.size(0)//n).mean(1).numpy()\n",
    "\n",
    "    points = np.array([x, y]).T.reshape(-1, 1, 2)\n",
    "    segments = np.concatenate([points[:-1], points[1:]], axis=1)\n",
    "    c = sort_correct.view(n,sort_eps.size(0)//n).mean(1).numpy()\n",
    "    c = np.array([c[:-1], c[1:]]).mean(axis=0)\n",
    "#     print(sort_eps.size(0))\n",
    "    axs.plot(np.arange(sort_eps.size(0)), np.ones(sort_eps.size(0))*true_epsilon, alpha=0.0, color='green')\n",
    "    xlim = axs.get_xlim()\n",
    "    axs.plot(np.array([-1e10, 1e10]), np.ones(2)*true_epsilon, alpha=0.7)\n",
    "    # Create a continuous norm to map from data points to colors\n",
    "    # norm = plt.Normalize(dydx.min(), dydx.max())\n",
    "    lc = LineCollection(segments, cmap='viridis', norm=plt.Normalize(vmin=0.35,vmax=1))\n",
    "    # Set the values used for colormapping\n",
    "    lc.set_array(c)\n",
    "    lc.set_linewidth(5)\n",
    "    line = axs.add_collection(lc)\n",
    "    cb = fig.colorbar(line, ax=axs,)# orientation='horizontal')\n",
    "    cb.set_label('Model accuracy')\n",
    "\n",
    "    axs.set_yscale('log')\n",
    "    axs.set_xlim(*xlim)\n",
    "    axs.set_ylim(5e-4, 0.5)\n",
    "    #axs.set_xlabel('Datapoint #')\n",
    "    #axs.set_ylabel('$\\epsilon$-distance')\n",
    "    #axs.set_title(title)\n",
    "    return line, axs"
   ]
  },
  {
   "cell_type": "code",
   "execution_count": null,
   "metadata": {},
   "outputs": [],
   "source": [
    "fig, ax = plt.subplots(1)\n",
    "line, ax = plot_epsilon(ax, sort_eps, sort_correct, true_epsilon, title='$\\epsilon$-distances for {} network on {} set'.format(nt, lt))"
   ]
  },
  {
   "cell_type": "code",
   "execution_count": null,
   "metadata": {},
   "outputs": [],
   "source": [
    "fig, axs = plt.subplots(1,2)\n",
    "axs[0].plot(sorted(correct))\n",
    "axs[0].plot([0,len(correct)], [true_epsilon, true_epsilon])\n",
    "axs[0].set_title('eps dist for correct labels')\n",
    "axs[1].plot(sorted(incorrect))\n",
    "axs[1].plot([0,len(incorrect)], [true_epsilon, true_epsilon])\n",
    "axs[1].set_title('eps dist for incorrect labels')\n",
    "print(\"Robust error at eps: {:.4f}\".format(1-(correct>=true_epsilon).sum()/(len(correct) + len(incorrect))))\n",
    "print(\"Fraction of correct examples that aren't certified: {:.4f} ({:d})\".format((correct<true_epsilon).sum()/len(correct), (correct<true_epsilon).sum()))\n",
    "print(\"Fraction of incorrect examples that are more than eps away: {:.4f} ({:d})\".format((incorrect>true_epsilon).sum()/len(incorrect), (incorrect>true_epsilon).sum()))\n",
    "print(\"Examples left for cascade: {}/{}\".format((correct<true_epsilon).sum() + (incorrect<true_epsilon).sum(), len(correct) + len(incorrect)))"
   ]
  },
  {
   "cell_type": "code",
   "execution_count": null,
   "metadata": {},
   "outputs": [],
   "source": [
    "plt.plot(sorted(incorrect))\n",
    "plt.plot([0,len(incorrect)], [true_epsilon, true_epsilon])"
   ]
  },
  {
   "cell_type": "code",
   "execution_count": null,
   "metadata": {
    "collapsed": true
   },
   "outputs": [],
   "source": []
  }
 ],
 "metadata": {
  "kernelspec": {
   "display_name": "Python [default]",
   "language": "python",
   "name": "python3"
  },
  "language_info": {
   "codemirror_mode": {
    "name": "ipython",
    "version": 3
   },
   "file_extension": ".py",
   "mimetype": "text/x-python",
   "name": "python",
   "nbconvert_exporter": "python",
   "pygments_lexer": "ipython3",
   "version": "3.6.3"
  }
 },
 "nbformat": 4,
 "nbformat_minor": 2
}
